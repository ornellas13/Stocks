{
 "cells": [
  {
   "cell_type": "markdown",
   "metadata": {},
   "source": [
    "# Clustered Heat Maps\n",
    "<p>Técnica de agrupamento para compreender contextos.<br />\n",
    "Aplicando Correlação de Pearson para entendimento de força entre os ativos analisados.<br />\n",
    "Criação do Mapa de Calor. Quanto mais próximo de 1.0, cor branca, mais forte é a correlação. </p>"
   ]
  },
  {
   "cell_type": "markdown",
   "metadata": {},
   "source": [
    "# Importando Bibliotecas"
   ]
  },
  {
   "cell_type": "code",
   "execution_count": 1,
   "metadata": {},
   "outputs": [],
   "source": [
    "#Bibliotecas\n",
    "import csv\n",
    "import pandas as pd\n",
    "from pandas_datareader import data, wb\n",
    "from pandas import Series, DataFrame\n",
    "pd.__version__\n",
    "import matplotlib.pyplot as plt\n",
    "import matplotlib as mpl"
   ]
  },
  {
   "cell_type": "markdown",
   "metadata": {},
   "source": [
    "# Variável dependente\n",
    "<p>Ação que será comparada com as demais.<br />No caso, o BBAS3."
   ]
  },
  {
   "cell_type": "code",
   "execution_count": 2,
   "metadata": {},
   "outputs": [],
   "source": [
    "#Importando o CSV para o dataframe\n",
    "headers = ['Date','Close']\n",
    "df = pd.read_csv('bbas3.csv',  index_col='Date', parse_dates=True,names = headers)\n",
    "\n",
    "#Carrega os valores de fechamento, no periodo selecionado\n",
    "close_px = df['Close']"
   ]
  },
  {
   "cell_type": "markdown",
   "metadata": {},
   "source": [
    "# Variáveis Independentes\n",
    "<p>As demais ações que serão correlacionadas com a variável dependente BBAS3.</p>"
   ]
  },
  {
   "cell_type": "code",
   "execution_count": 3,
   "metadata": {},
   "outputs": [],
   "source": [
    "#Preparando DataFrame ação BBDC3 - Bradesco\n",
    "headers = ['Date','Close']\n",
    "dfBbdc3 = pd.read_csv('bbdc3.csv',  index_col='Date', parse_dates=True,names = headers)\n",
    "\n",
    "#Preparando DataFrame ação ITUB3 - Itau\n",
    "headers = ['Date','Close']\n",
    "dfItub3 = pd.read_csv('itub3.csv',  index_col='Date', parse_dates=True,names = headers)\n",
    "\n",
    "#Preparando DataFrame ação SANB3 - Santander\n",
    "headers = ['Date','Close']\n",
    "dfSanb3 = pd.read_csv('sanb3.csv',  index_col='Date', parse_dates=True,names = headers)\n",
    "\n",
    "#Preparando DataFrame ação BRSR3 - Banrisul\n",
    "headers = ['Date','Close']\n",
    "dfBrsr3 = pd.read_csv('brsr3.csv',  index_col='Date', parse_dates=True,names = headers)"
   ]
  },
  {
   "cell_type": "markdown",
   "metadata": {},
   "source": [
    "# Correlação entre as ações\n",
    "<p>Calculando a correlação entre a ação BBAS3 com as demais.</p>"
   ]
  },
  {
   "cell_type": "code",
   "execution_count": 4,
   "metadata": {},
   "outputs": [],
   "source": [
    "dfCorrel = pd.DataFrame(index=df.index)\n",
    "dfCorrel['BBAS3'] = df['Close']\n",
    "dfCorrel['BBDC3'] = dfBbdc3.loc[:,'Close']\n",
    "dfCorrel['ITUB3'] = dfItub3.loc[:,'Close']\n",
    "dfCorrel['SANB3'] = dfSanb3.loc[:,'Close']\n",
    "dfCorrel['BRSR3'] = dfBrsr3.loc[:,'Close']"
   ]
  },
  {
   "cell_type": "code",
   "execution_count": 5,
   "metadata": {},
   "outputs": [
    {
     "data": {
      "image/png": "[encoded data removed]",
      "text/plain": [
       "<Figure size 432x288 with 2 Axes>"
      ]
     },
     "metadata": {
      "needs_background": "light"
     },
     "output_type": "display_data"
    }
   ],
   "source": [
    "#Calculo das correlacoes dos retornos e criação dos gráficos.\n",
    "retornos = dfCorrel[:].pct_change()\n",
    "correl = retornos.corr()\n",
    "plt.imshow(correl, cmap='hot', interpolation='none')\n",
    "plt.colorbar()\n",
    "plt.xticks(range(len(correl)), correl.columns)\n",
    "plt.yticks(range(len(correl)), correl.columns);\n",
    "plt.savefig(\"correlacao.png\")\n",
    "plt.show()"
   ]
  }
 ],
 "metadata": {
  "kernelspec": {
   "display_name": "Python 3",
   "language": "python",
   "name": "python3"
  },
  "language_info": {
   "codemirror_mode": {
    "name": "ipython",
    "version": 3
   },
   "file_extension": ".py",
   "mimetype": "text/x-python",
   "name": "python",
   "nbconvert_exporter": "python",
   "pygments_lexer": "ipython3",
   "version": "3.7.3"
  }
 },
 "nbformat": 4,
 "nbformat_minor": 2
}
